{
 "cells": [
  {
   "cell_type": "markdown",
   "metadata": {},
   "source": [
    "Deep Graph Library (DGL)\n",
    "=====================\n",
    "\n",
    "DGL is designed to bring machine learning closer to graph-structured data. Specifically DGL enables trouble-free implementation of graph neural network (GNN) model family. Unlike MXNet or PyTorch, DGL provides friendly APIs to perform the fundamental operations in GNNs such as message passing and reduction. Through DGL, we hope to benefit both researchers trying out new ideas and engineers in production.\n",
    "\n",
    "In this tutorial, we demonstrate the basics of DGL including:\n",
    "- How to create a graph?\n",
    "- How to manipulate node/edge features on a graph?\n",
    "- How to convert a graph to/from other formats?\n",
    "\n",
    "Although this tutorial uses [MXNet](https://mxnet.apache.org/) as backend for tensor-related computations (thus some familiarity with MXNet is preferred), DGL is designed to be platform-agnostic and can be seamlessly integrated into other frameworks like [PyTorch](https://pytorch.org) and [TensorFlow](https://www.tensorflow.org/), and we are actively working on this."
   ]
  },
  {
   "cell_type": "code",
   "execution_count": null,
   "metadata": {},
   "outputs": [],
   "source": [
    "# A bit of setup, just ignore this cell\n",
    "import matplotlib.pyplot as plt\n",
    "\n",
    "# for auto-reloading external modules\n",
    "%load_ext autoreload\n",
    "%autoreload 2\n",
    "\n",
    "%matplotlib inline\n",
    "plt.rcParams['figure.figsize'] = (8.0, 6.0) # set default size of plots\n",
    "plt.rcParams['image.interpolation'] = 'nearest'\n",
    "plt.rcParams['image.cmap'] = 'gray'\n",
    "plt.rcParams['animation.html'] = 'html5'"
   ]
  },
  {
   "cell_type": "markdown",
   "metadata": {},
   "source": [
    "We start by creating the well-known *\"Zachary's karate club\"* social network. The network captures 34 members of a karate club, documenting pairwise links between members who interacted outside the club. The club later splits into two communities led by the instructor (node 0) and club president (node 33). You could read more about the story in the [wiki page](https://en.wikipedia.org/wiki/Zachary%27s_karate_club) A visualization of the network and the community is as follows:\n",
    "\n",
    "![karate](https://www.dropbox.com/s/uqzor4lqsmbnz8k/karate1.jpg?dl=1)"
   ]
  },
  {
   "cell_type": "markdown",
   "metadata": {},
   "source": [
    "Creating a graph\n",
    "-----------------------------------\n",
    "\n",
    "Let's see how we can create such a graph in DGL. We start with importing `dgl` and other relevant packages."
   ]
  },
  {
   "cell_type": "code",
   "execution_count": null,
   "metadata": {},
   "outputs": [],
   "source": [
    "import dgl"
   ]
  },
  {
   "cell_type": "markdown",
   "metadata": {},
   "source": [
    "We first create an empty `DGLGraph`. In DGL, nodes are consecutive integers start from 0. The following codes add all the club members into this graph (34 nodes)."
   ]
  },
  {
   "cell_type": "code",
   "execution_count": null,
   "metadata": {},
   "outputs": [],
   "source": [
    "G = dgl.DGLGraph()\n",
    "G.add_nodes(34)\n",
    "print('Number of nodes:', G.number_of_nodes())"
   ]
  },
  {
   "cell_type": "markdown",
   "metadata": {},
   "source": [
    "The Karate Club network contains 78 edges:\n",
    "```\n",
    "[1 0]\n",
    "[2 0] [2 1]\n",
    "[3 0] [3 1] [3 2]\n",
    "[4 0]\n",
    "[5 0]\n",
    "[6 0] [6 4] [6 5]\n",
    "[7 0] [7 1] [7 2] [7 3]\n",
    "[8 0] [8 2]\n",
    "[9 2]\n",
    "[10 0] [10 4] [10 5]\n",
    "[11 0]\n",
    "[12 0] [12 3]\n",
    "[13 0] [13 1] [13 2] [13 3]\n",
    "[16 5] [16 6]\n",
    "[17 0] [17 1]\n",
    "[19 0] [19 1]\n",
    "[21 0] [21 1]\n",
    "[25 23] [25 24]\n",
    "[27 2] [27 23] [27 24]\n",
    "[28 2]\n",
    "[29 23] [29 26]\n",
    "[30 1] [30 8]\n",
    "[31 0] [31 24] [31 25] [31 28]\n",
    "[32 2] [32 8] [32 14] [32 15] [32 18] [32 20] [32 22] [32 23] [32 29] [32 30] [32 31]\n",
    "[33 8] [33 9] [33 13] [33 14] [33 15] [33 18] [33 19] [33 20] [33 22] [33 23] [33 26] [33 27] [33 28] [33 29] [33 30] [33 31] [33 32]\n",
    "```"
   ]
  },
  {
   "cell_type": "markdown",
   "metadata": {},
   "source": [
    "In DGL, edges can be added by specifying the two endpoints."
   ]
  },
  {
   "cell_type": "code",
   "execution_count": null,
   "metadata": {},
   "outputs": [],
   "source": [
    "G.add_edge(1, 0)\n",
    "print('Now we have %d edges!' % G.number_of_edges())"
   ]
  },
  {
   "cell_type": "markdown",
   "metadata": {},
   "source": [
    "To add multiple edges at once, use a list/tensor of nodes to specify the endpoints."
   ]
  },
  {
   "cell_type": "code",
   "execution_count": null,
   "metadata": {},
   "outputs": [],
   "source": [
    "import mxnet\n",
    "import mxnet.ndarray as nd\n",
    "import numpy as np\n",
    "\n",
    "########\n",
    "# NOTE: in DGL, edges are added by specifying a list of source nodes and a list of destination nodes,\n",
    "# rather than a list of source-destination node pairs. This is different from other popular graph\n",
    "# package such as networkx, python-igraph.\n",
    "\n",
    "########\n",
    "# NOTE: edges in DGLGraphs are all directional.\n",
    "\n",
    "# add two edges 2->0 and 2->1 using list\n",
    "G.add_edges([2, 2], [0, 1])\n",
    "\n",
    "# add three edges 3->0, 3->1 and 3->2 using mxnet ndarray\n",
    "src = nd.array([3, 3, 3], dtype=np.int64)\n",
    "dst = nd.array([0, 1, 2], dtype=np.int64)\n",
    "G.add_edges(src, dst)\n",
    "\n",
    "print('Now we have %d edges!' % G.number_of_edges())"
   ]
  },
  {
   "cell_type": "code",
   "execution_count": null,
   "metadata": {},
   "outputs": [],
   "source": [
    "# add two edges 4->0, 5->0 using list\n",
    "G.add_edges([4, 5], 0)\n",
    "\n",
    "# add three edges 6->0 6->4 6->5 using mxnet ndarray\n",
    "G.add_edges(6, nd.array([0, 4, 5], dtype=np.int64))\n",
    "\n",
    "print('Now we have %d edges!' % G.number_of_edges())"
   ]
  },
  {
   "cell_type": "markdown",
   "metadata": {},
   "source": [
    "If the edges share the same source or destination nodes, the list/tensor type can be replaced with a single integer."
   ]
  },
  {
   "cell_type": "code",
   "execution_count": null,
   "metadata": {},
   "outputs": [],
   "source": [
    "# Exercise: please finish the karate club graph by adding the remaining edges. We have provided you all the\n",
    "# remaining edge tuples in a list.\n",
    "\n",
    "edge_list = [(7, 0), (7, 1), (7, 2), (7, 3), (8, 0), (8, 2), (9, 2), (10, 0), (10, 4), (10, 5),\n",
    "             (11, 0), (12, 0), (12, 3), (13, 0), (13, 1), (13, 2), (13, 3), (16, 5), (16, 6),\n",
    "             (17, 0), (17, 1), (19, 0), (19, 1), (21, 0), (21, 1), (25, 23), (25, 24), (27, 2),\n",
    "             (27, 23), (27, 24), (28, 2), (29, 23), (29, 26), (30, 1), (30, 8), (31, 0), (31, 24),\n",
    "             (31, 25), (31, 28), (32, 2), (32, 8), (32, 14), (32, 15), (32, 18), (32, 20), (32, 22),\n",
    "             (32, 23), (32, 29), (32, 30), (32, 31), (33, 8), (33, 9), (33, 13), (33, 14), (33, 15),\n",
    "             (33, 18), (33, 19), (33, 20), (33, 22), (33, 23), (33, 26), (33, 27), (33, 28),\n",
    "             (33, 29), (33, 30), (33, 31), (33, 32)]\n",
    "\n",
    "# >>> YOUR CODE STARTS\n",
    "src, dst = list(zip(*edge_list))\n",
    "G.add_edges(src, dst)\n",
    "\n",
    "# <<< YOUR CODE ENDS\n",
    "\n",
    "# We should have 78 edges now!\n",
    "print('Now we have %d edges!' % G.number_of_edges())"
   ]
  },
  {
   "cell_type": "markdown",
   "metadata": {},
   "source": [
    "Manipulating node/edge features\n",
    "---------------------------------------------------------\n",
    "\n",
    "Nodes and edges in `DGLGraph` can have **feature** tensors. Features of multiple nodes/edges are batched on the first dimension. Let's start by assigning a random feature vector of length 5 to all nodes."
   ]
  },
  {
   "cell_type": "code",
   "execution_count": null,
   "metadata": {},
   "outputs": [],
   "source": [
    "G.ndata['feat'] = nd.random.randn(34, 5)"
   ]
  },
  {
   "cell_type": "markdown",
   "metadata": {},
   "source": [
    "Now each node has a feature vector `'feat'` that has 5 elements. Note since there are 34 nodes in this graph, the first dimension must be of size 34, so that each row corresponds to the feature vector of each node. Error will be raised if the dimension mismatches:"
   ]
  },
  {
   "cell_type": "code",
   "execution_count": null,
   "metadata": {},
   "outputs": [],
   "source": [
    "# This will raise error!!\n",
    "# G.ndata['wrong_feat'] = nd.random.randn(35, 5)"
   ]
  },
  {
   "cell_type": "markdown",
   "metadata": {},
   "source": [
    "The `G.ndata` is a dictionary-like structure, so it is compatible with any operation on dictionary."
   ]
  },
  {
   "cell_type": "code",
   "execution_count": null,
   "metadata": {},
   "outputs": [],
   "source": [
    "# Use `dict.update` to add new features (vector of length 3)\n",
    "G.ndata.update({'another_feat' : nd.random.randn(34, 3)})\n",
    "\n",
    "# Print the feature dictionary\n",
    "print(G.ndata)\n",
    "\n",
    "# Delete the new feature using `dict.pop`\n",
    "G.ndata.pop('another_feat')"
   ]
  },
  {
   "cell_type": "markdown",
   "metadata": {},
   "source": [
    "Sometimes, you might want to update features of some but not all of the nodes. This can be done using the following syntax:"
   ]
  },
  {
   "cell_type": "code",
   "execution_count": null,
   "metadata": {},
   "outputs": [],
   "source": [
    "# Set node 0's feat to be all-zeros vector. Please be aware of the extra size 1 dimension here.\n",
    "G.nodes[0].data['feat'] = nd.zeros((1, 5))\n",
    "\n",
    "# Set node 2, 3's feat to be all-ones vector at once using list type.\n",
    "G.nodes[[2, 3]].data['feat'] = nd.ones((2, 5))\n",
    "\n",
    "# Set node 10, 11, 12's feat to be all-twos vector at once using tensor type.\n",
    "to_change = nd.array([10, 11, 12], dtype=np.int64)\n",
    "G.nodes[to_change].data['feat'] = nd.ones((3, 5)) * 2"
   ]
  },
  {
   "cell_type": "markdown",
   "metadata": {},
   "source": [
    "Similar to `G.ndata` and `G.nodes`, we have `G.edata` and `G.edges` to access and modify edge features:"
   ]
  },
  {
   "cell_type": "code",
   "execution_count": null,
   "metadata": {},
   "outputs": [],
   "source": [
    "# The broness edge feature is just a scalar.\n",
    "G.edata['broness'] = nd.ones((G.number_of_edges(),))\n",
    "\n",
    "# The instructor (node 0) is a tough guy, so his friends are a little bit scared of him.\n",
    "G.edges[G.predecessors(0), 0].data['broness'] *= 0.5\n",
    "\n",
    "print(G.edata)"
   ]
  },
  {
   "cell_type": "code",
   "execution_count": null,
   "metadata": {},
   "outputs": [],
   "source": [
    "# Exercise: We know that measuring bro-ness cannot be accurate. Could you add some small random noise to it?\n",
    "# Hint: Use `nd.random.randn` to add small permutation to it.\n",
    "#\n",
    "# >>> YOUR CODE STARTS\n",
    "\n",
    "G.edata['broness'] += nd.random.randn(G.number_of_edges()) * 0.1\n",
    "\n",
    "# <<< YOUR CODE ENDS\n",
    "\n",
    "# You should see some randomness here\n",
    "print(G.edata['broness'])"
   ]
  },
  {
   "cell_type": "markdown",
   "metadata": {},
   "source": [
    "Converting to/from networkx graph and sparse matrix\n",
    "-----------------------------------------------------------------\n",
    "\n",
    "[Networkx](https://networkx.github.io/documentation/stable/) is a classical and popular python graph library. It provides many good utilities to analyze and visualize a graph. `DGLGraph` can be easily converted to/from `networkx` graph very easily:"
   ]
  },
  {
   "cell_type": "code",
   "execution_count": null,
   "metadata": {},
   "outputs": [],
   "source": [
    "import networkx as nx\n",
    "\n",
    "nx_G = G.to_networkx()\n",
    "pos = nx.circular_layout(nx_G)\n",
    "nx.draw(nx_G, pos, with_labels=True)"
   ]
  },
  {
   "cell_type": "markdown",
   "metadata": {},
   "source": [
    "Constructing a DGLGraph from networkx is straight-forward. In fact, DGL borrows many of the networkx utilities to create graph from different format:"
   ]
  },
  {
   "cell_type": "code",
   "execution_count": null,
   "metadata": {},
   "outputs": [],
   "source": [
    "# from networkx graph\n",
    "G_from_nx = dgl.DGLGraph(nx_G)  # this gives you the same karate club network\n",
    "\n",
    "# from edge list\n",
    "G_from_elist = dgl.DGLGraph([(0,1), (1,2), (2,3)])  # this gives you a chain graph\n",
    "\n",
    "# from scipy sparse matrix\n",
    "import scipy.sparse as sp\n",
    "A = sp.eye(5, 5, 1)\n",
    "G_from_sp = dgl.DGLGraph(A)  # this also gives you a chain of 5 nodes"
   ]
  },
  {
   "cell_type": "code",
   "execution_count": null,
   "metadata": {},
   "outputs": [],
   "source": []
  }
 ],
 "metadata": {
  "kernelspec": {
   "display_name": "conda_python3",
   "language": "python",
   "name": "conda_python3"
  },
  "language_info": {
   "codemirror_mode": {
    "name": "ipython",
    "version": 3
   },
   "file_extension": ".py",
   "mimetype": "text/x-python",
   "name": "python",
   "nbconvert_exporter": "python",
   "pygments_lexer": "ipython3",
   "version": "3.6.5"
  }
 },
 "nbformat": 4,
 "nbformat_minor": 2
}
