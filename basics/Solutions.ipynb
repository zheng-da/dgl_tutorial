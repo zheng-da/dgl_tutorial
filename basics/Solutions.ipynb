{
 "cells": [
  {
   "cell_type": "markdown",
   "metadata": {},
   "source": [
    "# 1_Basics.ipynb"
   ]
  },
  {
   "cell_type": "markdown",
   "metadata": {},
   "source": [
    "**Exercise 1**\n",
    "```python\n",
    "src, dst = list(zip(*edge_list))\n",
    "G.add_edges(src, dst)\n",
    "```\n",
    "\n",
    "**Exercise 2**\n",
    "```python\n",
    "G.edata['broness'] += nd.random.randn(G.number_of_edges()) * 0.1\n",
    "```\n"
   ]
  },
  {
   "cell_type": "markdown",
   "metadata": {},
   "source": [
    "# 2_MessagePassing.ipynb\n",
    "**Exercise 1**\n",
    "```python\n",
    "while num_invited < 34:\n",
    "    G.update_all(message_func, reduce_func)\n",
    "    num_invited = int(G.ndata['invited'].sum().asscalar())\n",
    "    print(\"{} members invited\".format(num_invited))\n",
    "```"
   ]
  },
  {
   "cell_type": "markdown",
   "metadata": {},
   "source": [
    "# 3_GCN.ipynb\n",
    "**Exercise 1**\n",
    "```python\n",
    "class GCN(gluon.Block):\n",
    "    def __init__(self, out_feats):\n",
    "        super(GCN, self).__init__()\n",
    "        self.linear = nn.Dense(out_feats)\n",
    "    \n",
    "    def forward(self, g, inputs):\n",
    "        # g is the graph and the inputs is the input node features\n",
    "        # first perform linear transformation\n",
    "        h = self.linear(inputs)\n",
    "        # set the node features\n",
    "        g.ndata['h'] = h\n",
    "        # set node degrees\n",
    "        g.ndata['deg'] = g.in_degrees(g.nodes()).reshape(-1, 1).astype('float32')\n",
    "        # trigger message passing, gcn_message and gcn_reduce will be defined later\n",
    "        g.update_all(gcn_message, gcn_reduce)\n",
    "        # get the result node features\n",
    "        h = g.ndata.pop('h')\n",
    "        return h\n",
    "\n",
    "def gcn_message(edges):\n",
    "    return {'msg': nd.broadcast_div(edges.src['h'], nd.sqrt(edges.src['deg'] * edges.dst['deg']))}\n",
    "\n",
    "# Define a 2-layer GCN model\n",
    "class Model(gluon.Block):\n",
    "    def __init__(self, hidden_size, num_classes):\n",
    "        super(Model, self).__init__()\n",
    "        self.gcn1 = GCN(hidden_size)\n",
    "        self.gcn2 = GCN(num_classes)\n",
    "    \n",
    "    def forward(self, g, inputs):\n",
    "        h = self.gcn1(g, inputs)\n",
    "        h = nd.relu(h)\n",
    "        h = self.gcn2(g, h)\n",
    "        return h\n",
    "\n",
    "G = create_karate_graph()\n",
    "GG = convert_to_bidirectional(G)\n",
    "inputs = nd.eye(34)  # featureless inputs\n",
    "labeled_nodes = nd.array([0, 33], dtype=np.int64)  # only the instructor and the president nodes are labeled\n",
    "labels = nd.array([0, 1], dtype=np.int64)  # their labels are different\n",
    "model = Model(5, 2)\n",
    "model.initialize()\n",
    "loss_fn = gluon.loss.SoftmaxCELoss()\n",
    "trainer = gluon.Trainer(model.collect_params(), 'adam', {'learning_rate': 0.05})\n",
    "\n",
    "all_logits = []\n",
    "for epoch in range(30):\n",
    "    with mxnet.autograd.record():\n",
    "        logits = model(GG, inputs)\n",
    "        loss = loss_fn(logits[labeled_nodes], labels).sum()\n",
    "    \n",
    "    loss.backward()\n",
    "    trainer.step(batch_size=1)\n",
    "    \n",
    "    all_logits.append(logits.detach())\n",
    "    print('Epoch %d | Loss: %.4f' % (epoch, loss.asscalar()))\n",
    "```"
   ]
  },
  {
   "cell_type": "code",
   "execution_count": null,
   "metadata": {},
   "outputs": [],
   "source": []
  }
 ],
 "metadata": {
  "kernelspec": {
   "display_name": "conda_python3",
   "language": "python",
   "name": "conda_python3"
  },
  "language_info": {
   "codemirror_mode": {
    "name": "ipython",
    "version": 3
   },
   "file_extension": ".py",
   "mimetype": "text/x-python",
   "name": "python",
   "nbconvert_exporter": "python",
   "pygments_lexer": "ipython3",
   "version": "3.6.5"
  }
 },
 "nbformat": 4,
 "nbformat_minor": 2
}
